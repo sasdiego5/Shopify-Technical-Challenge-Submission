{
 "cells": [
  {
   "cell_type": "markdown",
   "id": "04e75709-24e5-4f6b-bfdb-2ce96c51ec5e",
   "metadata": {},
   "source": [
    "## Diego Orejuela\n",
    "## Winter 2022 Data Science Intern Challenge"
   ]
  },
  {
   "cell_type": "code",
   "execution_count": 1,
   "id": "2a138015-c560-4623-8a65-b13e03456205",
   "metadata": {},
   "outputs": [],
   "source": [
    "# import basic libraries\n",
    "import pandas as pd\n",
    "import numpy as np\n",
    "import xlsxwriter\n",
    "from datetime import datetime as dt\n",
    "from datetime import timedelta"
   ]
  },
  {
   "cell_type": "markdown",
   "id": "fc37d455-5e1f-43e6-934e-5f5b23a44ce9",
   "metadata": {},
   "source": [
    "# Question 1"
   ]
  },
  {
   "cell_type": "code",
   "execution_count": 2,
   "id": "ed86ca1f-269f-4a69-b865-dc21c38cbbbf",
   "metadata": {},
   "outputs": [
    {
     "data": {
      "text/html": [
       "<div>\n",
       "<style scoped>\n",
       "    .dataframe tbody tr th:only-of-type {\n",
       "        vertical-align: middle;\n",
       "    }\n",
       "\n",
       "    .dataframe tbody tr th {\n",
       "        vertical-align: top;\n",
       "    }\n",
       "\n",
       "    .dataframe thead th {\n",
       "        text-align: right;\n",
       "    }\n",
       "</style>\n",
       "<table border=\"1\" class=\"dataframe\">\n",
       "  <thead>\n",
       "    <tr style=\"text-align: right;\">\n",
       "      <th></th>\n",
       "      <th>order_id</th>\n",
       "      <th>shop_id</th>\n",
       "      <th>user_id</th>\n",
       "      <th>order_amount</th>\n",
       "      <th>total_items</th>\n",
       "      <th>payment_method</th>\n",
       "      <th>created_at</th>\n",
       "    </tr>\n",
       "  </thead>\n",
       "  <tbody>\n",
       "    <tr>\n",
       "      <th>4995</th>\n",
       "      <td>4996</td>\n",
       "      <td>73</td>\n",
       "      <td>993</td>\n",
       "      <td>330</td>\n",
       "      <td>2</td>\n",
       "      <td>debit</td>\n",
       "      <td>2017-03-30 13:47:16.597</td>\n",
       "    </tr>\n",
       "    <tr>\n",
       "      <th>4996</th>\n",
       "      <td>4997</td>\n",
       "      <td>48</td>\n",
       "      <td>789</td>\n",
       "      <td>234</td>\n",
       "      <td>2</td>\n",
       "      <td>cash</td>\n",
       "      <td>2017-03-16 20:36:16.389</td>\n",
       "    </tr>\n",
       "    <tr>\n",
       "      <th>4997</th>\n",
       "      <td>4998</td>\n",
       "      <td>56</td>\n",
       "      <td>867</td>\n",
       "      <td>351</td>\n",
       "      <td>3</td>\n",
       "      <td>cash</td>\n",
       "      <td>2017-03-19 05:42:42.228</td>\n",
       "    </tr>\n",
       "    <tr>\n",
       "      <th>4998</th>\n",
       "      <td>4999</td>\n",
       "      <td>60</td>\n",
       "      <td>825</td>\n",
       "      <td>354</td>\n",
       "      <td>2</td>\n",
       "      <td>credit_card</td>\n",
       "      <td>2017-03-16 14:51:18.188</td>\n",
       "    </tr>\n",
       "    <tr>\n",
       "      <th>4999</th>\n",
       "      <td>5000</td>\n",
       "      <td>44</td>\n",
       "      <td>734</td>\n",
       "      <td>288</td>\n",
       "      <td>2</td>\n",
       "      <td>debit</td>\n",
       "      <td>2017-03-18 15:48:18.205</td>\n",
       "    </tr>\n",
       "  </tbody>\n",
       "</table>\n",
       "</div>"
      ],
      "text/plain": [
       "      order_id  shop_id  user_id  order_amount  total_items payment_method  \\\n",
       "4995      4996       73      993           330            2          debit   \n",
       "4996      4997       48      789           234            2           cash   \n",
       "4997      4998       56      867           351            3           cash   \n",
       "4998      4999       60      825           354            2    credit_card   \n",
       "4999      5000       44      734           288            2          debit   \n",
       "\n",
       "                  created_at  \n",
       "4995 2017-03-30 13:47:16.597  \n",
       "4996 2017-03-16 20:36:16.389  \n",
       "4997 2017-03-19 05:42:42.228  \n",
       "4998 2017-03-16 14:51:18.188  \n",
       "4999 2017-03-18 15:48:18.205  "
      ]
     },
     "execution_count": 2,
     "metadata": {},
     "output_type": "execute_result"
    }
   ],
   "source": [
    "# load dataset to a dataframe\n",
    "df = pd.read_excel('2019 Winter Data Science Intern Challenge Data Set.xlsx')\n",
    "df.tail()"
   ]
  },
  {
   "cell_type": "code",
   "execution_count": 3,
   "id": "f021767c-b2e1-4599-8b99-f638a9db9639",
   "metadata": {},
   "outputs": [
    {
     "name": "stdout",
     "output_type": "stream",
     "text": [
      "<class 'pandas.core.frame.DataFrame'>\n",
      "RangeIndex: 5000 entries, 0 to 4999\n",
      "Data columns (total 7 columns):\n",
      " #   Column          Non-Null Count  Dtype         \n",
      "---  ------          --------------  -----         \n",
      " 0   order_id        5000 non-null   int64         \n",
      " 1   shop_id         5000 non-null   int64         \n",
      " 2   user_id         5000 non-null   int64         \n",
      " 3   order_amount    5000 non-null   int64         \n",
      " 4   total_items     5000 non-null   int64         \n",
      " 5   payment_method  5000 non-null   object        \n",
      " 6   created_at      5000 non-null   datetime64[ns]\n",
      "dtypes: datetime64[ns](1), int64(5), object(1)\n",
      "memory usage: 273.6+ KB\n"
     ]
    }
   ],
   "source": [
    "# become familiar with the dataset\n",
    "df.info()"
   ]
  },
  {
   "cell_type": "markdown",
   "id": "a0f1e596-69bf-48e8-bc15-822de182985b",
   "metadata": {},
   "source": [
    "## Since we want to look at a 30 day window. Use datetime accessors to make sure dates are within the window"
   ]
  },
  {
   "cell_type": "code",
   "execution_count": 4,
   "id": "49fab357-eff6-4275-b3ab-f6ca791f3116",
   "metadata": {},
   "outputs": [
    {
     "data": {
      "text/html": [
       "<div>\n",
       "<style scoped>\n",
       "    .dataframe tbody tr th:only-of-type {\n",
       "        vertical-align: middle;\n",
       "    }\n",
       "\n",
       "    .dataframe tbody tr th {\n",
       "        vertical-align: top;\n",
       "    }\n",
       "\n",
       "    .dataframe thead th {\n",
       "        text-align: right;\n",
       "    }\n",
       "</style>\n",
       "<table border=\"1\" class=\"dataframe\">\n",
       "  <thead>\n",
       "    <tr style=\"text-align: right;\">\n",
       "      <th></th>\n",
       "      <th>order_id</th>\n",
       "      <th>shop_id</th>\n",
       "      <th>user_id</th>\n",
       "      <th>order_amount</th>\n",
       "      <th>total_items</th>\n",
       "      <th>payment_method</th>\n",
       "      <th>created_at</th>\n",
       "      <th>year</th>\n",
       "      <th>month</th>\n",
       "      <th>day</th>\n",
       "      <th>YYYYMMDD</th>\n",
       "    </tr>\n",
       "  </thead>\n",
       "  <tbody>\n",
       "    <tr>\n",
       "      <th>4995</th>\n",
       "      <td>4996</td>\n",
       "      <td>73</td>\n",
       "      <td>993</td>\n",
       "      <td>330</td>\n",
       "      <td>2</td>\n",
       "      <td>debit</td>\n",
       "      <td>2017-03-30 13:47:16.597</td>\n",
       "      <td>2017</td>\n",
       "      <td>3</td>\n",
       "      <td>30</td>\n",
       "      <td>2017-03-30</td>\n",
       "    </tr>\n",
       "    <tr>\n",
       "      <th>4996</th>\n",
       "      <td>4997</td>\n",
       "      <td>48</td>\n",
       "      <td>789</td>\n",
       "      <td>234</td>\n",
       "      <td>2</td>\n",
       "      <td>cash</td>\n",
       "      <td>2017-03-16 20:36:16.389</td>\n",
       "      <td>2017</td>\n",
       "      <td>3</td>\n",
       "      <td>16</td>\n",
       "      <td>2017-03-16</td>\n",
       "    </tr>\n",
       "    <tr>\n",
       "      <th>4997</th>\n",
       "      <td>4998</td>\n",
       "      <td>56</td>\n",
       "      <td>867</td>\n",
       "      <td>351</td>\n",
       "      <td>3</td>\n",
       "      <td>cash</td>\n",
       "      <td>2017-03-19 05:42:42.228</td>\n",
       "      <td>2017</td>\n",
       "      <td>3</td>\n",
       "      <td>19</td>\n",
       "      <td>2017-03-19</td>\n",
       "    </tr>\n",
       "    <tr>\n",
       "      <th>4998</th>\n",
       "      <td>4999</td>\n",
       "      <td>60</td>\n",
       "      <td>825</td>\n",
       "      <td>354</td>\n",
       "      <td>2</td>\n",
       "      <td>credit_card</td>\n",
       "      <td>2017-03-16 14:51:18.188</td>\n",
       "      <td>2017</td>\n",
       "      <td>3</td>\n",
       "      <td>16</td>\n",
       "      <td>2017-03-16</td>\n",
       "    </tr>\n",
       "    <tr>\n",
       "      <th>4999</th>\n",
       "      <td>5000</td>\n",
       "      <td>44</td>\n",
       "      <td>734</td>\n",
       "      <td>288</td>\n",
       "      <td>2</td>\n",
       "      <td>debit</td>\n",
       "      <td>2017-03-18 15:48:18.205</td>\n",
       "      <td>2017</td>\n",
       "      <td>3</td>\n",
       "      <td>18</td>\n",
       "      <td>2017-03-18</td>\n",
       "    </tr>\n",
       "  </tbody>\n",
       "</table>\n",
       "</div>"
      ],
      "text/plain": [
       "      order_id  shop_id  user_id  order_amount  total_items payment_method  \\\n",
       "4995      4996       73      993           330            2          debit   \n",
       "4996      4997       48      789           234            2           cash   \n",
       "4997      4998       56      867           351            3           cash   \n",
       "4998      4999       60      825           354            2    credit_card   \n",
       "4999      5000       44      734           288            2          debit   \n",
       "\n",
       "                  created_at  year  month  day   YYYYMMDD  \n",
       "4995 2017-03-30 13:47:16.597  2017      3   30 2017-03-30  \n",
       "4996 2017-03-16 20:36:16.389  2017      3   16 2017-03-16  \n",
       "4997 2017-03-19 05:42:42.228  2017      3   19 2017-03-19  \n",
       "4998 2017-03-16 14:51:18.188  2017      3   16 2017-03-16  \n",
       "4999 2017-03-18 15:48:18.205  2017      3   18 2017-03-18  "
      ]
     },
     "execution_count": 4,
     "metadata": {},
     "output_type": "execute_result"
    }
   ],
   "source": [
    "df_1 = df.copy()\n",
    "df_1['year'] = df_1['created_at'].dt.year\n",
    "df_1['month'] = df_1['created_at'].dt.month\n",
    "# df_1['day'] = df_1['created_at'].dt.day\n",
    "df_1['YYYYMMDD'] = df_1['created_at'].dt.strftime('%Y-%m-%d').values.astype('datetime64')\n",
    "df_1.tail()"
   ]
  },
  {
   "cell_type": "code",
   "execution_count": 9,
   "id": "616a80a0-7dfa-43c1-a9c2-4b758a007d65",
   "metadata": {},
   "outputs": [
    {
     "data": {
      "text/plain": [
       "2017    5000\n",
       "Name: year, dtype: int64"
      ]
     },
     "execution_count": 9,
     "metadata": {},
     "output_type": "execute_result"
    }
   ],
   "source": [
    "# make sure year is consistent\n",
    "df_1['year'].value_counts()"
   ]
  },
  {
   "cell_type": "code",
   "execution_count": 10,
   "id": "829210bc-7715-43b1-8c8c-15c975c7f9a8",
   "metadata": {},
   "outputs": [
    {
     "data": {
      "text/plain": [
       "3    5000\n",
       "Name: month, dtype: int64"
      ]
     },
     "execution_count": 10,
     "metadata": {},
     "output_type": "execute_result"
    }
   ],
   "source": [
    "# make sure month is consistent\n",
    "df_1['month'].value_counts()"
   ]
  },
  {
   "cell_type": "markdown",
   "id": "7f314fe0-ddbb-4151-a536-305cf3093ff2",
   "metadata": {},
   "source": [
    "## After becoming familiar with the dataset and making sure the dates are not contributing to the calculation mistake. The next step is to perform the AOV calculation:\n",
    "## Average Order Value = Revenue / Number of Orders\n",
    "## Now it's time to calculate the AOV with the columns: order_amount and total_items.\n",
    "## Metrics:\n",
    "## The sum of the column order_amount will be the numerator\n",
    "## The sum of the column total_items will be the denominator"
   ]
  },
  {
   "cell_type": "code",
   "execution_count": 16,
   "id": "3fdf5599-ed1e-47eb-9f31-73f3f44b8206",
   "metadata": {},
   "outputs": [
    {
     "data": {
      "text/plain": [
       "357.92152221412965"
      ]
     },
     "execution_count": 16,
     "metadata": {},
     "output_type": "execute_result"
    }
   ],
   "source": [
    "# Use the sum function over the selected columns and divide\n",
    "\n",
    "order_amt = df_1['order_amount'].sum()\n",
    "items_tot = df_1['total_items'].sum()\n",
    "aov = order_amt / items_tot\n",
    "aov"
   ]
  },
  {
   "cell_type": "code",
   "execution_count": 17,
   "id": "d4b6f40f-713a-4c38-8aa3-a5ee721baad0",
   "metadata": {},
   "outputs": [
    {
     "name": "stdout",
     "output_type": "stream",
     "text": [
      "Shopify Sneaker Shops AOV: $357.92\n"
     ]
    }
   ],
   "source": [
    "aov_price = \"${:,.2f}\".format(aov)\n",
    "print('Shopify Sneaker Shops AOV: ' + aov_price)"
   ]
  },
  {
   "cell_type": "markdown",
   "id": "0ad85e8e-ccfa-4a0a-96f3-02b2f268e059",
   "metadata": {},
   "source": [
    "## Since the denominator for the AOV is Number of orders, a common mistake in the calculations would be to Count the number of orders. \n",
    "## In this case, perform a count of the number of total_items, but there can be more than one item per order. Therefore, we need to sum the number of items per order."
   ]
  },
  {
   "cell_type": "code",
   "execution_count": 18,
   "id": "92ee6794-8235-4993-a60e-7f942edd4ccd",
   "metadata": {},
   "outputs": [
    {
     "name": "stdout",
     "output_type": "stream",
     "text": [
      "Shopify Sneaker Shops AOV is not : $3,145.13\n"
     ]
    }
   ],
   "source": [
    "order_amt = df_1['order_amount'].sum()\n",
    "items_tot = df_1['total_items'].count()\n",
    "aov_wrong = order_amt / items_tot\n",
    "aov_price_wrong = \"${:,.2f}\".format(aov_wrong)\n",
    "print('Shopify Sneaker Shops AOV is not : ' + aov_price_wrong)"
   ]
  },
  {
   "cell_type": "markdown",
   "id": "bdd2ab45-4a95-43c7-85c2-f21dc5840f18",
   "metadata": {},
   "source": [
    "# Question 2"
   ]
  },
  {
   "cell_type": "code",
   "execution_count": 5,
   "id": "76e89416-0ebb-4718-9b60-fa668c6703bc",
   "metadata": {},
   "outputs": [
    {
     "name": "stdout",
     "output_type": "stream",
     "text": [
      "ShipperName: Speedy Express\n",
      "OrderCount: 54\n"
     ]
    }
   ],
   "source": [
    "# a. How many orders were shipped by Speedy Express in Total?\n",
    "\n",
    "'''\n",
    "SELECT s.ShipmentName, COUNT(o.OrderID) as OrderCount\n",
    "FROM Shippers s, Orders o\n",
    "WHERE s.ShipperID = o.ShipperID\n",
    "AND s.ShipperName = 'Speedy Express'\n",
    "'''\n",
    "\n",
    "# Answer:\n",
    "\n",
    "print('ShipperName: Speedy Express')\n",
    "print('OrderCount: 54')"
   ]
  },
  {
   "cell_type": "code",
   "execution_count": 6,
   "id": "ba108dfc-db07-433a-9d85-3b89a751c3d8",
   "metadata": {},
   "outputs": [
    {
     "name": "stdout",
     "output_type": "stream",
     "text": [
      "LastName: Peacock\n",
      "OrderCount: 40\n"
     ]
    }
   ],
   "source": [
    "# b. What is the last name with the employee with the most orders?\n",
    "\n",
    "'''\n",
    "SELECT count(o.OrderID) as OrderCount, e.LastName\n",
    "FROM Orders o, Employees e\n",
    "WHERE o.EmployeeID = e.EmployeeID\n",
    "GROUP BY e.EmployeeID\n",
    "ORDER BY OrderCount DESC\n",
    "LIMIT 1\n",
    "'''\n",
    "\n",
    "#Alternate Solution\n",
    "'''\n",
    "SELECT max(t1.OrderCount) as OrderCount, e.LastName\n",
    "FROM Employees e,\n",
    "(\n",
    "    select count(o.OrderID) as OrderCount, o.EmployeeID\n",
    "    from Orders o\n",
    "    group by o.EmployeeID\n",
    ") t1\n",
    "WHERE t1.EmployeeID = e.EmployeeID\n",
    "'''\n",
    "\n",
    "# Answer:\n",
    "print('LastName: Peacock')\n",
    "print('OrderCount: 40')"
   ]
  },
  {
   "cell_type": "code",
   "execution_count": 7,
   "id": "620afbe1-2f0b-4e85-a5dc-da95b036c894",
   "metadata": {},
   "outputs": [
    {
     "name": "stdout",
     "output_type": "stream",
     "text": [
      "ProductName: Camembert Pierrot\n",
      "ProductCount: 300\n",
      "Quantity: 40\n",
      "OrdersTotal: 12000\n"
     ]
    }
   ],
   "source": [
    "# c. What product was ordered the most by customers in Germany?\n",
    "\n",
    "'''\n",
    "with Base as (\n",
    "SELECT p.ProductName , o.OrderID, od.Quantity, c.Country\n",
    "FROM Customers c, Products p, Orders o, OrderDetails od \n",
    "WHERE c.Country = 'Germany'\n",
    "AND od.ProductID = p.ProductID\n",
    "AND o.CustomerID = c.CustomerID)\n",
    "\n",
    "SELECT ProductCounts.*, (ProductCount*Quantity) as OrdersTotal\n",
    "FROM\n",
    "(\n",
    "    SELECT ProductName, count(ProductName) as ProductCount, Quantity\n",
    "    FROM Base\n",
    "    GROUP BY ProductName\n",
    ") ProductCounts\n",
    "\n",
    "ORDER BY OrdersTotal DESC\n",
    "LIMIT 1\n",
    "\n",
    "'''\n",
    "# Answer: \n",
    "print('ProductName: Camembert Pierrot')\n",
    "print('ProductCount: 300')\n",
    "print('Quantity: 40')\n",
    "print('OrdersTotal: 12000')"
   ]
  }
 ],
 "metadata": {
  "kernelspec": {
   "display_name": "Python 3",
   "language": "python",
   "name": "python3"
  },
  "language_info": {
   "codemirror_mode": {
    "name": "ipython",
    "version": 3
   },
   "file_extension": ".py",
   "mimetype": "text/x-python",
   "name": "python",
   "nbconvert_exporter": "python",
   "pygments_lexer": "ipython3",
   "version": "3.8.8"
  }
 },
 "nbformat": 4,
 "nbformat_minor": 5
}
